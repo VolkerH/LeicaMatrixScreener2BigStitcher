{
 "cells": [
  {
   "cell_type": "markdown",
   "metadata": {},
   "source": [
    "# Selective Acquisition using Leica CAM Server\n",
    "\n",
    "### About \n",
    "\n",
    "This is a basic example for selective acquisition using the Leica CAM Server and Python.\n",
    "\n",
    "\n",
    "### Requirements\n",
    "\n",
    "* **Python 2.7**: the cam_communicator_class used is still based on the soon-to-be-outdated python 2.7\n",
    "* skimage\n",
    "* toolz\n",
    "\n",
    "### Target audience\n",
    "\n",
    "You will require some basic python skills to adapt this to your needs.\n",
    "\n",
    "### Author\n",
    "Volker Hilsenstein, October 2019\n"
   ]
  },
  {
   "cell_type": "code",
   "execution_count": 50,
   "metadata": {},
   "outputs": [],
   "source": [
    "import pathlib\n",
    "import tifffile\n",
    "import skimage\n",
    "import re\n",
    "import numpy as np\n",
    "from functools import partial\n",
    "from toolz.dicttoolz import merge\n",
    "from toolz.itertoolz import take\n",
    "from toolz.itertoolz import groupby\n",
    "import cam_communicator_class as CAMC\n",
    "import os.path"
   ]
  },
  {
   "cell_type": "markdown",
   "metadata": {},
   "source": [
    "## Establish connection to Leica CAM Server\n",
    "\n",
    "On the microscope, you need to have Matrix Screener running, the CAM Server checkbox ticked and at least one scan field assigned:"
   ]
  },
  {
   "cell_type": "code",
   "execution_count": 31,
   "metadata": {},
   "outputs": [],
   "source": [
    "sp5=CAMC.CAMcommunicator()"
   ]
  },
  {
   "cell_type": "code",
   "execution_count": 32,
   "metadata": {},
   "outputs": [],
   "source": [
    "sp5.setIP('127.0.0.1')"
   ]
  },
  {
   "cell_type": "code",
   "execution_count": 33,
   "metadata": {},
   "outputs": [
    {
     "name": "stdout",
     "output_type": "stream",
     "text": [
      "Trying to open connection to Leica at  127.0.0.1 : 8895\n",
      "Connected.\n"
     ]
    },
    {
     "data": {
      "text/plain": [
       "True"
      ]
     },
     "execution_count": 33,
     "metadata": {},
     "output_type": "execute_result"
    }
   ],
   "source": [
    "sp5.open()"
   ]
  },
  {
   "cell_type": "markdown",
   "metadata": {},
   "source": [
    "Flush any old and stale messages"
   ]
  },
  {
   "cell_type": "code",
   "execution_count": 34,
   "metadata": {},
   "outputs": [],
   "source": [
    "sp5.flushCAMreceivebuffer()"
   ]
  },
  {
   "cell_type": "markdown",
   "metadata": {},
   "source": [
    "define a function that finds the last experiment folder that matrix screener created:"
   ]
  },
  {
   "cell_type": "code",
   "execution_count": 55,
   "metadata": {},
   "outputs": [],
   "source": [
    "def get_last_experimentfolder(basepath):\n",
    "    files = basepath.glob(\"experiment*\")\n",
    "    files = map(str, files)\n",
    "    files.sort()\n",
    "    return(files[-1])"
   ]
  },
  {
   "cell_type": "code",
   "execution_count": 56,
   "metadata": {},
   "outputs": [],
   "source": [
    "basepath = pathlib.Path(\"E:/22-07-2019/4927/\")\n",
    "#rootfolder =  pathlib.Path(\"E:/22-07-2019/4927/experiment--2019_07_22_05_07_51\")"
   ]
  },
  {
   "cell_type": "markdown",
   "metadata": {},
   "source": [
    "define a regular expression that lets us extract metadata matrix screener filenames"
   ]
  },
  {
   "cell_type": "code",
   "execution_count": 20,
   "metadata": {},
   "outputs": [],
   "source": [
    "regex = r\"^image--L\\d+--S\\d+--U(?P<u>\\d+)--V(?P<v>\\d+)\"\\\n",
    "    \"--J(?P<jobnr>\\d+).*--X(?P<x>\\d+)--Y(?P<y>\\d+)--T(?P<t>\\d+)\" \\\n",
    "    \"--Z(?P<z>\\d+)--C(?P<ch>\\d+).ome.tif\""
   ]
  },
  {
   "cell_type": "code",
   "execution_count": 21,
   "metadata": {},
   "outputs": [
    {
     "data": {
      "text/plain": [
       "'^image--L\\\\d+--S\\\\d+--U(?P<u>\\\\d+)--V(?P<v>\\\\d+)--J(?P<jobnr>\\\\d+).*--X(?P<x>\\\\d+)--Y(?P<y>\\\\d+)--T(?P<t>\\\\d+)--Z(?P<z>\\\\d+)--C(?P<ch>\\\\d+).ome.tif'"
      ]
     },
     "execution_count": 21,
     "metadata": {},
     "output_type": "execute_result"
    }
   ],
   "source": [
    "regex"
   ]
  },
  {
   "cell_type": "markdown",
   "metadata": {},
   "source": [
    "Define some helper functions for:\n",
    "* measuring image stats\n",
    "* extracting metadata "
   ]
  },
  {
   "cell_type": "code",
   "execution_count": 58,
   "metadata": {},
   "outputs": [],
   "source": [
    "def measure_image_stats(impath):\n",
    "    filename = str(impath)\n",
    "    print(filename)\n",
    "    im = tifffile.imread(filename)\n",
    "    \n",
    "    stats = {}\n",
    "    # there really should be a numpy \n",
    "    # function that finds both min and max\n",
    "    # with a single traversal\n",
    "    # this would maybe be something for dask-image as\n",
    "    # well\n",
    "    stats[\"max\"] = np.max(im)\n",
    "    stats[\"min\"] = np.min(im)\n",
    "    stats[\"median\"] = np.median(im)\n",
    "    stats[\"sum\"] = np.sum(im)\n",
    "    return(stats)\n",
    "\n",
    "def extraxt_meta(impath, regex):\n",
    "    mobj = re.match(regex, str(impath.name))\n",
    "    return mobj.groupdict()\n",
    "\n",
    "def call_and_merge(argument, funcs):\n",
    "    return (merge(map(lambda f: f(argument), funcs)))\n",
    "\n",
    "def coords_from_dict(d):\n",
    "    return d[\"u\"],d[\"v\"],d[\"x\"],d[\"y\"]"
   ]
  },
  {
   "cell_type": "code",
   "execution_count": 59,
   "metadata": {},
   "outputs": [],
   "source": [
    "meta = partial(extraxt_meta, regex=regex)\n",
    "cm = partial(call_and_merge, funcs=[meta, measure_image_stats])"
   ]
  },
  {
   "cell_type": "markdown",
   "metadata": {},
   "source": [
    "After setting up all the helper functions and establishing a connection, the following cell starts selective acquisition. It is assumed that the prescan job is already assigned to the scan fields.\n",
    "\n",
    "* starts the initial scan with the already assigned prescan job\n",
    "* waits for the scan to finish\n",
    "* figures out which folder matrix screener wrote the files to (finding the most recent folder)\n",
    "* Assigns the high resolution scanjob (harcoded as 'acquisition') to all fields.\n",
    "* Disables all scanfields.\n",
    "* finds all the files that were created and computes image statistics \n",
    "* goes through all fields and looks whether any of the zslices exceeds a certain minimum brightness (hardcoded as 20 here). If so, the respective scanfield is enabled\n",
    "* starts the high-resolution scan"
   ]
  },
  {
   "cell_type": "code",
   "execution_count": null,
   "metadata": {},
   "outputs": [
    {
     "name": "stdout",
     "output_type": "stream",
     "text": [
      "Starting the prescan\n",
      "Waiting for prescan to finish\n"
     ]
    }
   ],
   "source": [
    "print(\"Starting the prescan\")\n",
    "sp5.startScan()\n",
    "print(\"Waiting for prescan to finish\")\n",
    "sp5.waitForScanToFinish()\n",
    "rootfolder = pathlib.Path(get_last_experimentfolder(basepath))\n",
    "\n",
    "# Assign acquisition job to all fields and then disable all fields\n",
    "sp5.selectScanField(allfields=True)\n",
    "sp5.assignJob(\"acquisition\")\n",
    "sp5.disableScanField(allfields=True)\n",
    "\n",
    "# Find and process all files from prescan \n",
    "tifffiles = rootfolder.rglob(\"*.tif\")\n",
    "results = map(cm, tifffiles)\n",
    "zstacks = groupby(coords_from_dict, results)\n",
    "# this could be done in a functional way, too ... \n",
    "# using some sort of reduce to find the maximum in each stack\n",
    "# and filter to filter the stacks\n",
    "# I just happened to be in a rush ... so I did it the old-fashioned way\n",
    "for key in zstacks.keys():\n",
    "    maxima = list(map(lambda x: x[\"max\"], zstacks[key]))\n",
    "    print(maxima)\n",
    "    if np.max(maxima) > 20:\n",
    "        print(str(key) + \" is bright enough ++++++++\")\n",
    "        u,v, x,y = [int(elem)+1 for elem in key]\n",
    "        print(\"enabling field \",u,v,x,y)\n",
    "        sp5.enableScanField(wellx=u, welly=v, fieldx=x, fieldy=y)\n",
    "    else:\n",
    "        print(str(key) + \" too dim --\")\n",
    "        \n",
    "print(\"starting the acquisition\")\n",
    "sp5.startScan()"
   ]
  },
  {
   "cell_type": "code",
   "execution_count": null,
   "metadata": {},
   "outputs": [],
   "source": []
  }
 ],
 "metadata": {
  "kernelspec": {
   "display_name": "Python 2",
   "language": "python",
   "name": "python2"
  },
  "language_info": {
   "codemirror_mode": {
    "name": "ipython",
    "version": 2
   },
   "file_extension": ".py",
   "mimetype": "text/x-python",
   "name": "python",
   "nbconvert_exporter": "python",
   "pygments_lexer": "ipython2",
   "version": "2.7.16"
  }
 },
 "nbformat": 4,
 "nbformat_minor": 2
}
